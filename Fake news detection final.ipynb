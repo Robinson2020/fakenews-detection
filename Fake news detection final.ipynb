{
 "cells": [
  {
   "cell_type": "code",
   "execution_count": 1,
   "metadata": {},
   "outputs": [
    {
     "name": "stderr",
     "output_type": "stream",
     "text": [
      "C:\\Users\\Admin\\anaconda3\\lib\\site-packages\\tqdm\\std.py:668: FutureWarning: The Panel class is removed from pandas. Accessing it from the top-level namespace will also be removed in the next version\n",
      "  from pandas import Panel\n"
     ]
    }
   ],
   "source": [
    "import pandas as pd\n",
    "import numpy as np\n",
    "from tqdm import tqdm\n",
    "tqdm.pandas(desc=\"progress-bar\")\n",
    "from gensim.models import Doc2Vec\n",
    "from sklearn import utils\n",
    "from sklearn.model_selection import train_test_split\n",
    "import gensim\n",
    "from sklearn.linear_model import LogisticRegression\n",
    "from gensim.models.doc2vec import TaggedDocument\n",
    "import re\n",
    "import seaborn as sns\n",
    "import matplotlib.pyplot as plt"
   ]
  },
  {
   "cell_type": "code",
   "execution_count": 2,
   "metadata": {},
   "outputs": [],
   "source": [
    "import pandas as pd\n",
    "df1 = pd.read_csv('train1_news.csv', engine='python')"
   ]
  },
  {
   "cell_type": "code",
   "execution_count": 3,
   "metadata": {},
   "outputs": [
    {
     "name": "stdout",
     "output_type": "stream",
     "text": [
      "<class 'pandas.core.frame.DataFrame'>\n",
      "RangeIndex: 20736 entries, 0 to 20735\n",
      "Data columns (total 6 columns):\n",
      " #   Column      Non-Null Count  Dtype  \n",
      "---  ------      --------------  -----  \n",
      " 0   Unnamed: 0  20733 non-null  object \n",
      " 1   id          20733 non-null  object \n",
      " 2   headline    20175 non-null  object \n",
      " 3   written_by  18780 non-null  object \n",
      " 4   news        20693 non-null  object \n",
      " 5   label       20717 non-null  float64\n",
      "dtypes: float64(1), object(5)\n",
      "memory usage: 972.1+ KB\n"
     ]
    }
   ],
   "source": [
    "df1.info()"
   ]
  },
  {
   "cell_type": "code",
   "execution_count": 4,
   "metadata": {},
   "outputs": [
    {
     "data": {
      "text/html": [
       "<div>\n",
       "<style scoped>\n",
       "    .dataframe tbody tr th:only-of-type {\n",
       "        vertical-align: middle;\n",
       "    }\n",
       "\n",
       "    .dataframe tbody tr th {\n",
       "        vertical-align: top;\n",
       "    }\n",
       "\n",
       "    .dataframe thead th {\n",
       "        text-align: right;\n",
       "    }\n",
       "</style>\n",
       "<table border=\"1\" class=\"dataframe\">\n",
       "  <thead>\n",
       "    <tr style=\"text-align: right;\">\n",
       "      <th></th>\n",
       "      <th>Unnamed: 0</th>\n",
       "      <th>id</th>\n",
       "      <th>headline</th>\n",
       "      <th>written_by</th>\n",
       "      <th>news</th>\n",
       "      <th>label</th>\n",
       "    </tr>\n",
       "  </thead>\n",
       "  <tbody>\n",
       "    <tr>\n",
       "      <th>0</th>\n",
       "      <td>0</td>\n",
       "      <td>9653</td>\n",
       "      <td>Ethics Questions Dogged Agriculture Nominee as...</td>\n",
       "      <td>Eric Lipton and Steve Eder</td>\n",
       "      <td>WASHINGTON  â€”   In Sonny Perdueâ€™s telling,...</td>\n",
       "      <td>0.0</td>\n",
       "    </tr>\n",
       "    <tr>\n",
       "      <th>1</th>\n",
       "      <td>1</td>\n",
       "      <td>10041</td>\n",
       "      <td>U.S. Must Dig Deep to Stop Argentinaâ€™s Lione...</td>\n",
       "      <td>David Waldstein</td>\n",
       "      <td>HOUSTON  â€”   Venezuela had a plan. It was a ...</td>\n",
       "      <td>0.0</td>\n",
       "    </tr>\n",
       "    <tr>\n",
       "      <th>2</th>\n",
       "      <td>2</td>\n",
       "      <td>19113</td>\n",
       "      <td>Cotton to House: â€™Do Not Walk the Plank and ...</td>\n",
       "      <td>Pam Key</td>\n",
       "      <td>Sunday on ABCâ€™s â€œThis Week,â€� while discu...</td>\n",
       "      <td>0.0</td>\n",
       "    </tr>\n",
       "    <tr>\n",
       "      <th>3</th>\n",
       "      <td>3</td>\n",
       "      <td>6868</td>\n",
       "      <td>Paul LePage, Besieged Maine Governor, Sends Co...</td>\n",
       "      <td>Jess Bidgood</td>\n",
       "      <td>AUGUSTA, Me.  â€”   The beleaguered Republican...</td>\n",
       "      <td>0.0</td>\n",
       "    </tr>\n",
       "    <tr>\n",
       "      <th>4</th>\n",
       "      <td>4</td>\n",
       "      <td>7596</td>\n",
       "      <td>A Digital 9/11 If Trump Wins</td>\n",
       "      <td>Finian Cunningham</td>\n",
       "      <td>Finian Cunningham has written extensively on...</td>\n",
       "      <td>1.0</td>\n",
       "    </tr>\n",
       "  </tbody>\n",
       "</table>\n",
       "</div>"
      ],
      "text/plain": [
       "  Unnamed: 0     id                                           headline  \\\n",
       "0          0   9653  Ethics Questions Dogged Agriculture Nominee as...   \n",
       "1          1  10041  U.S. Must Dig Deep to Stop Argentinaâ€™s Lione...   \n",
       "2          2  19113  Cotton to House: â€™Do Not Walk the Plank and ...   \n",
       "3          3   6868  Paul LePage, Besieged Maine Governor, Sends Co...   \n",
       "4          4   7596                       A Digital 9/11 If Trump Wins   \n",
       "\n",
       "                   written_by  \\\n",
       "0  Eric Lipton and Steve Eder   \n",
       "1             David Waldstein   \n",
       "2                     Pam Key   \n",
       "3                Jess Bidgood   \n",
       "4           Finian Cunningham   \n",
       "\n",
       "                                                news  label  \n",
       "0  WASHINGTON  â€”   In Sonny Perdueâ€™s telling,...    0.0  \n",
       "1  HOUSTON  â€”   Venezuela had a plan. It was a ...    0.0  \n",
       "2  Sunday on ABCâ€™s â€œThis Week,â€� while discu...    0.0  \n",
       "3  AUGUSTA, Me.  â€”   The beleaguered Republican...    0.0  \n",
       "4    Finian Cunningham has written extensively on...    1.0  "
      ]
     },
     "execution_count": 4,
     "metadata": {},
     "output_type": "execute_result"
    }
   ],
   "source": [
    "df1.head()"
   ]
  },
  {
   "cell_type": "code",
   "execution_count": 5,
   "metadata": {},
   "outputs": [
    {
     "data": {
      "text/html": [
       "<div>\n",
       "<style scoped>\n",
       "    .dataframe tbody tr th:only-of-type {\n",
       "        vertical-align: middle;\n",
       "    }\n",
       "\n",
       "    .dataframe tbody tr th {\n",
       "        vertical-align: top;\n",
       "    }\n",
       "\n",
       "    .dataframe thead th {\n",
       "        text-align: right;\n",
       "    }\n",
       "</style>\n",
       "<table border=\"1\" class=\"dataframe\">\n",
       "  <thead>\n",
       "    <tr style=\"text-align: right;\">\n",
       "      <th></th>\n",
       "      <th>Unnamed: 0</th>\n",
       "      <th>id</th>\n",
       "      <th>headline</th>\n",
       "      <th>written_by</th>\n",
       "      <th>news</th>\n",
       "      <th>label</th>\n",
       "    </tr>\n",
       "  </thead>\n",
       "  <tbody>\n",
       "    <tr>\n",
       "      <th>0</th>\n",
       "      <td>0</td>\n",
       "      <td>9653</td>\n",
       "      <td>Ethics Questions Dogged Agriculture Nominee as...</td>\n",
       "      <td>Eric Lipton and Steve Eder</td>\n",
       "      <td>WASHINGTON  â€”   In Sonny Perdueâ€™s telling,...</td>\n",
       "      <td>0.0</td>\n",
       "    </tr>\n",
       "    <tr>\n",
       "      <th>1</th>\n",
       "      <td>1</td>\n",
       "      <td>10041</td>\n",
       "      <td>U.S. Must Dig Deep to Stop Argentinaâ€™s Lione...</td>\n",
       "      <td>David Waldstein</td>\n",
       "      <td>HOUSTON  â€”   Venezuela had a plan. It was a ...</td>\n",
       "      <td>0.0</td>\n",
       "    </tr>\n",
       "    <tr>\n",
       "      <th>2</th>\n",
       "      <td>2</td>\n",
       "      <td>19113</td>\n",
       "      <td>Cotton to House: â€™Do Not Walk the Plank and ...</td>\n",
       "      <td>Pam Key</td>\n",
       "      <td>Sunday on ABCâ€™s â€œThis Week,â€� while discu...</td>\n",
       "      <td>0.0</td>\n",
       "    </tr>\n",
       "    <tr>\n",
       "      <th>3</th>\n",
       "      <td>3</td>\n",
       "      <td>6868</td>\n",
       "      <td>Paul LePage, Besieged Maine Governor, Sends Co...</td>\n",
       "      <td>Jess Bidgood</td>\n",
       "      <td>AUGUSTA, Me.  â€”   The beleaguered Republican...</td>\n",
       "      <td>0.0</td>\n",
       "    </tr>\n",
       "    <tr>\n",
       "      <th>4</th>\n",
       "      <td>4</td>\n",
       "      <td>7596</td>\n",
       "      <td>A Digital 9/11 If Trump Wins</td>\n",
       "      <td>Finian Cunningham</td>\n",
       "      <td>Finian Cunningham has written extensively on...</td>\n",
       "      <td>1.0</td>\n",
       "    </tr>\n",
       "  </tbody>\n",
       "</table>\n",
       "</div>"
      ],
      "text/plain": [
       "  Unnamed: 0     id                                           headline  \\\n",
       "0          0   9653  Ethics Questions Dogged Agriculture Nominee as...   \n",
       "1          1  10041  U.S. Must Dig Deep to Stop Argentinaâ€™s Lione...   \n",
       "2          2  19113  Cotton to House: â€™Do Not Walk the Plank and ...   \n",
       "3          3   6868  Paul LePage, Besieged Maine Governor, Sends Co...   \n",
       "4          4   7596                       A Digital 9/11 If Trump Wins   \n",
       "\n",
       "                   written_by  \\\n",
       "0  Eric Lipton and Steve Eder   \n",
       "1             David Waldstein   \n",
       "2                     Pam Key   \n",
       "3                Jess Bidgood   \n",
       "4           Finian Cunningham   \n",
       "\n",
       "                                                news  label  \n",
       "0  WASHINGTON  â€”   In Sonny Perdueâ€™s telling,...    0.0  \n",
       "1  HOUSTON  â€”   Venezuela had a plan. It was a ...    0.0  \n",
       "2  Sunday on ABCâ€™s â€œThis Week,â€� while discu...    0.0  \n",
       "3  AUGUSTA, Me.  â€”   The beleaguered Republican...    0.0  \n",
       "4    Finian Cunningham has written extensively on...    1.0  "
      ]
     },
     "execution_count": 5,
     "metadata": {},
     "output_type": "execute_result"
    }
   ],
   "source": [
    "df1.head()"
   ]
  },
  {
   "cell_type": "code",
   "execution_count": 6,
   "metadata": {},
   "outputs": [
    {
     "data": {
      "text/html": [
       "<div>\n",
       "<style scoped>\n",
       "    .dataframe tbody tr th:only-of-type {\n",
       "        vertical-align: middle;\n",
       "    }\n",
       "\n",
       "    .dataframe tbody tr th {\n",
       "        vertical-align: top;\n",
       "    }\n",
       "\n",
       "    .dataframe thead th {\n",
       "        text-align: right;\n",
       "    }\n",
       "</style>\n",
       "<table border=\"1\" class=\"dataframe\">\n",
       "  <thead>\n",
       "    <tr style=\"text-align: right;\">\n",
       "      <th></th>\n",
       "      <th>id</th>\n",
       "      <th>headline</th>\n",
       "      <th>written_by</th>\n",
       "      <th>news</th>\n",
       "      <th>label</th>\n",
       "    </tr>\n",
       "  </thead>\n",
       "  <tbody>\n",
       "    <tr>\n",
       "      <th>0</th>\n",
       "      <td>9653</td>\n",
       "      <td>Ethics Questions Dogged Agriculture Nominee as...</td>\n",
       "      <td>Eric Lipton and Steve Eder</td>\n",
       "      <td>WASHINGTON  â€”   In Sonny Perdueâ€™s telling,...</td>\n",
       "      <td>0.0</td>\n",
       "    </tr>\n",
       "    <tr>\n",
       "      <th>1</th>\n",
       "      <td>10041</td>\n",
       "      <td>U.S. Must Dig Deep to Stop Argentinaâ€™s Lione...</td>\n",
       "      <td>David Waldstein</td>\n",
       "      <td>HOUSTON  â€”   Venezuela had a plan. It was a ...</td>\n",
       "      <td>0.0</td>\n",
       "    </tr>\n",
       "    <tr>\n",
       "      <th>2</th>\n",
       "      <td>19113</td>\n",
       "      <td>Cotton to House: â€™Do Not Walk the Plank and ...</td>\n",
       "      <td>Pam Key</td>\n",
       "      <td>Sunday on ABCâ€™s â€œThis Week,â€� while discu...</td>\n",
       "      <td>0.0</td>\n",
       "    </tr>\n",
       "    <tr>\n",
       "      <th>3</th>\n",
       "      <td>6868</td>\n",
       "      <td>Paul LePage, Besieged Maine Governor, Sends Co...</td>\n",
       "      <td>Jess Bidgood</td>\n",
       "      <td>AUGUSTA, Me.  â€”   The beleaguered Republican...</td>\n",
       "      <td>0.0</td>\n",
       "    </tr>\n",
       "    <tr>\n",
       "      <th>4</th>\n",
       "      <td>7596</td>\n",
       "      <td>A Digital 9/11 If Trump Wins</td>\n",
       "      <td>Finian Cunningham</td>\n",
       "      <td>Finian Cunningham has written extensively on...</td>\n",
       "      <td>1.0</td>\n",
       "    </tr>\n",
       "    <tr>\n",
       "      <th>...</th>\n",
       "      <td>...</td>\n",
       "      <td>...</td>\n",
       "      <td>...</td>\n",
       "      <td>...</td>\n",
       "      <td>...</td>\n",
       "    </tr>\n",
       "    <tr>\n",
       "      <th>20731</th>\n",
       "      <td>5671</td>\n",
       "      <td>NaN</td>\n",
       "      <td>NeverSurrender</td>\n",
       "      <td>No, you'll be a dog licking of the vomit of yo...</td>\n",
       "      <td>1.0</td>\n",
       "    </tr>\n",
       "    <tr>\n",
       "      <th>20732</th>\n",
       "      <td>14831</td>\n",
       "      <td>Albert Pike and the European Migrant Crisis</td>\n",
       "      <td>Rixon Stewart</td>\n",
       "      <td>By Rixon Stewart on November 5, 2016 Rixon Ste...</td>\n",
       "      <td>1.0</td>\n",
       "    </tr>\n",
       "    <tr>\n",
       "      <th>20733</th>\n",
       "      <td>18142</td>\n",
       "      <td>Dakota Access Caught Infiltrating Protests to ...</td>\n",
       "      <td>Eddy Lavine</td>\n",
       "      <td>posted by Eddie You know the Dakota Access Pip...</td>\n",
       "      <td>1.0</td>\n",
       "    </tr>\n",
       "    <tr>\n",
       "      <th>20734</th>\n",
       "      <td>12139</td>\n",
       "      <td>How to Stretch the Summer Solstice - The New Y...</td>\n",
       "      <td>Alison S. Cohn</td>\n",
       "      <td>Itâ€™s officially summer, and the Society Bout...</td>\n",
       "      <td>0.0</td>\n",
       "    </tr>\n",
       "    <tr>\n",
       "      <th>20735</th>\n",
       "      <td>15660</td>\n",
       "      <td>Emory University to Pay for â€™100 Percentâ€™ ...</td>\n",
       "      <td>Tom Ciccotta</td>\n",
       "      <td>Emory University in Atlanta, Georgia, has anno...</td>\n",
       "      <td>0.0</td>\n",
       "    </tr>\n",
       "  </tbody>\n",
       "</table>\n",
       "<p>20736 rows × 5 columns</p>\n",
       "</div>"
      ],
      "text/plain": [
       "          id                                           headline  \\\n",
       "0       9653  Ethics Questions Dogged Agriculture Nominee as...   \n",
       "1      10041  U.S. Must Dig Deep to Stop Argentinaâ€™s Lione...   \n",
       "2      19113  Cotton to House: â€™Do Not Walk the Plank and ...   \n",
       "3       6868  Paul LePage, Besieged Maine Governor, Sends Co...   \n",
       "4       7596                       A Digital 9/11 If Trump Wins   \n",
       "...      ...                                                ...   \n",
       "20731   5671                                                NaN   \n",
       "20732  14831        Albert Pike and the European Migrant Crisis   \n",
       "20733  18142  Dakota Access Caught Infiltrating Protests to ...   \n",
       "20734  12139  How to Stretch the Summer Solstice - The New Y...   \n",
       "20735  15660  Emory University to Pay for â€™100 Percentâ€™ ...   \n",
       "\n",
       "                       written_by  \\\n",
       "0      Eric Lipton and Steve Eder   \n",
       "1                 David Waldstein   \n",
       "2                         Pam Key   \n",
       "3                    Jess Bidgood   \n",
       "4               Finian Cunningham   \n",
       "...                           ...   \n",
       "20731              NeverSurrender   \n",
       "20732               Rixon Stewart   \n",
       "20733                 Eddy Lavine   \n",
       "20734              Alison S. Cohn   \n",
       "20735                Tom Ciccotta   \n",
       "\n",
       "                                                    news  label  \n",
       "0      WASHINGTON  â€”   In Sonny Perdueâ€™s telling,...    0.0  \n",
       "1      HOUSTON  â€”   Venezuela had a plan. It was a ...    0.0  \n",
       "2      Sunday on ABCâ€™s â€œThis Week,â€� while discu...    0.0  \n",
       "3      AUGUSTA, Me.  â€”   The beleaguered Republican...    0.0  \n",
       "4        Finian Cunningham has written extensively on...    1.0  \n",
       "...                                                  ...    ...  \n",
       "20731  No, you'll be a dog licking of the vomit of yo...    1.0  \n",
       "20732  By Rixon Stewart on November 5, 2016 Rixon Ste...    1.0  \n",
       "20733  posted by Eddie You know the Dakota Access Pip...    1.0  \n",
       "20734  Itâ€™s officially summer, and the Society Bout...    0.0  \n",
       "20735  Emory University in Atlanta, Georgia, has anno...    0.0  \n",
       "\n",
       "[20736 rows x 5 columns]"
      ]
     },
     "execution_count": 6,
     "metadata": {},
     "output_type": "execute_result"
    }
   ],
   "source": [
    "data= df1[[\"id\", \"headline\",\"written_by\",\"news\",\"label\"]] \n",
    "data"
   ]
  },
  {
   "cell_type": "code",
   "execution_count": 7,
   "metadata": {},
   "outputs": [
    {
     "name": "stdout",
     "output_type": "stream",
     "text": [
      "Shape = > (20736, 5)\n"
     ]
    }
   ],
   "source": [
    "print ('Shape = >',data.shape)"
   ]
  },
  {
   "cell_type": "code",
   "execution_count": 8,
   "metadata": {},
   "outputs": [
    {
     "data": {
      "text/plain": [
       "id               3\n",
       "headline       561\n",
       "written_by    1956\n",
       "news            43\n",
       "label           19\n",
       "dtype: int64"
      ]
     },
     "execution_count": 8,
     "metadata": {},
     "output_type": "execute_result"
    }
   ],
   "source": [
    "data.isnull().sum()"
   ]
  },
  {
   "cell_type": "code",
   "execution_count": 9,
   "metadata": {},
   "outputs": [
    {
     "name": "stderr",
     "output_type": "stream",
     "text": [
      "<ipython-input-9-2e8daf2abe27>:1: SettingWithCopyWarning: \n",
      "A value is trying to be set on a copy of a slice from a DataFrame.\n",
      "Try using .loc[row_indexer,col_indexer] = value instead\n",
      "\n",
      "See the caveats in the documentation: https://pandas.pydata.org/pandas-docs/stable/user_guide/indexing.html#returning-a-view-versus-a-copy\n",
      "  data['written_by'] = data['written_by'].fillna(data['written_by'].mode()[0])\n",
      "<ipython-input-9-2e8daf2abe27>:2: SettingWithCopyWarning: \n",
      "A value is trying to be set on a copy of a slice from a DataFrame.\n",
      "Try using .loc[row_indexer,col_indexer] = value instead\n",
      "\n",
      "See the caveats in the documentation: https://pandas.pydata.org/pandas-docs/stable/user_guide/indexing.html#returning-a-view-versus-a-copy\n",
      "  data['headline'] = data['headline'].fillna(data['headline'].mode()[0])\n",
      "<ipython-input-9-2e8daf2abe27>:3: SettingWithCopyWarning: \n",
      "A value is trying to be set on a copy of a slice from a DataFrame.\n",
      "Try using .loc[row_indexer,col_indexer] = value instead\n",
      "\n",
      "See the caveats in the documentation: https://pandas.pydata.org/pandas-docs/stable/user_guide/indexing.html#returning-a-view-versus-a-copy\n",
      "  data['news'] = data['news'].fillna(data['news'].mode()[0])\n",
      "<ipython-input-9-2e8daf2abe27>:4: SettingWithCopyWarning: \n",
      "A value is trying to be set on a copy of a slice from a DataFrame.\n",
      "Try using .loc[row_indexer,col_indexer] = value instead\n",
      "\n",
      "See the caveats in the documentation: https://pandas.pydata.org/pandas-docs/stable/user_guide/indexing.html#returning-a-view-versus-a-copy\n",
      "  data['label'] = data['label'].fillna(data['label'].mode()[0])\n"
     ]
    }
   ],
   "source": [
    "data['written_by'] = data['written_by'].fillna(data['written_by'].mode()[0])\n",
    "data['headline'] = data['headline'].fillna(data['headline'].mode()[0])\n",
    "data['news'] = data['news'].fillna(data['news'].mode()[0])\n",
    "data['label'] = data['label'].fillna(data['label'].mode()[0])"
   ]
  },
  {
   "cell_type": "code",
   "execution_count": 11,
   "metadata": {},
   "outputs": [
    {
     "name": "stderr",
     "output_type": "stream",
     "text": [
      "<ipython-input-11-ed33c48db978>:1: SettingWithCopyWarning: \n",
      "A value is trying to be set on a copy of a slice from a DataFrame\n",
      "\n",
      "See the caveats in the documentation: https://pandas.pydata.org/pandas-docs/stable/user_guide/indexing.html#returning-a-view-versus-a-copy\n",
      "  data.dropna(axis=0,inplace=True)\n"
     ]
    }
   ],
   "source": [
    "data.dropna(axis=0,inplace=True)"
   ]
  },
  {
   "cell_type": "code",
   "execution_count": 12,
   "metadata": {},
   "outputs": [
    {
     "data": {
      "text/plain": [
       "id            0\n",
       "headline      0\n",
       "written_by    0\n",
       "news          0\n",
       "label         0\n",
       "dtype: int64"
      ]
     },
     "execution_count": 12,
     "metadata": {},
     "output_type": "execute_result"
    }
   ],
   "source": [
    "data.isnull().sum()"
   ]
  },
  {
   "cell_type": "code",
   "execution_count": 13,
   "metadata": {},
   "outputs": [
    {
     "name": "stdout",
     "output_type": "stream",
     "text": [
      "<class 'pandas.core.frame.DataFrame'>\n",
      "Int64Index: 20733 entries, 0 to 20735\n",
      "Data columns (total 5 columns):\n",
      " #   Column      Non-Null Count  Dtype  \n",
      "---  ------      --------------  -----  \n",
      " 0   id          20733 non-null  object \n",
      " 1   headline    20733 non-null  object \n",
      " 2   written_by  20733 non-null  object \n",
      " 3   news        20733 non-null  object \n",
      " 4   label       20733 non-null  float64\n",
      "dtypes: float64(1), object(4)\n",
      "memory usage: 971.9+ KB\n"
     ]
    }
   ],
   "source": [
    "data.info()"
   ]
  },
  {
   "cell_type": "code",
   "execution_count": 14,
   "metadata": {},
   "outputs": [
    {
     "name": "stdout",
     "output_type": "stream",
     "text": [
      "fake and not fake \n",
      " 1.0    10385\n",
      "0.0    10348\n",
      "Name: label, dtype: int64\n"
     ]
    }
   ],
   "source": [
    "print ('fake and not fake','\\n',data.label.value_counts())"
   ]
  },
  {
   "cell_type": "code",
   "execution_count": 15,
   "metadata": {},
   "outputs": [
    {
     "name": "stderr",
     "output_type": "stream",
     "text": [
      "<ipython-input-15-0bf50fe07196>:2: SettingWithCopyWarning: \n",
      "A value is trying to be set on a copy of a slice from a DataFrame.\n",
      "Try using .loc[row_indexer,col_indexer] = value instead\n",
      "\n",
      "See the caveats in the documentation: https://pandas.pydata.org/pandas-docs/stable/user_guide/indexing.html#returning-a-view-versus-a-copy\n",
      "  data['length'] = data.news.str.len()\n"
     ]
    },
    {
     "data": {
      "text/html": [
       "<div>\n",
       "<style scoped>\n",
       "    .dataframe tbody tr th:only-of-type {\n",
       "        vertical-align: middle;\n",
       "    }\n",
       "\n",
       "    .dataframe tbody tr th {\n",
       "        vertical-align: top;\n",
       "    }\n",
       "\n",
       "    .dataframe thead th {\n",
       "        text-align: right;\n",
       "    }\n",
       "</style>\n",
       "<table border=\"1\" class=\"dataframe\">\n",
       "  <thead>\n",
       "    <tr style=\"text-align: right;\">\n",
       "      <th></th>\n",
       "      <th>id</th>\n",
       "      <th>headline</th>\n",
       "      <th>written_by</th>\n",
       "      <th>news</th>\n",
       "      <th>label</th>\n",
       "      <th>length</th>\n",
       "    </tr>\n",
       "  </thead>\n",
       "  <tbody>\n",
       "    <tr>\n",
       "      <th>0</th>\n",
       "      <td>9653</td>\n",
       "      <td>Ethics Questions Dogged Agriculture Nominee as...</td>\n",
       "      <td>Eric Lipton and Steve Eder</td>\n",
       "      <td>WASHINGTON  â€”   In Sonny Perdueâ€™s telling,...</td>\n",
       "      <td>0.0</td>\n",
       "      <td>8064</td>\n",
       "    </tr>\n",
       "    <tr>\n",
       "      <th>1</th>\n",
       "      <td>10041</td>\n",
       "      <td>U.S. Must Dig Deep to Stop Argentinaâ€™s Lione...</td>\n",
       "      <td>David Waldstein</td>\n",
       "      <td>HOUSTON  â€”   Venezuela had a plan. It was a ...</td>\n",
       "      <td>0.0</td>\n",
       "      <td>6253</td>\n",
       "    </tr>\n",
       "    <tr>\n",
       "      <th>2</th>\n",
       "      <td>19113</td>\n",
       "      <td>Cotton to House: â€™Do Not Walk the Plank and ...</td>\n",
       "      <td>Pam Key</td>\n",
       "      <td>Sunday on ABCâ€™s â€œThis Week,â€� while discu...</td>\n",
       "      <td>0.0</td>\n",
       "      <td>441</td>\n",
       "    </tr>\n",
       "    <tr>\n",
       "      <th>3</th>\n",
       "      <td>6868</td>\n",
       "      <td>Paul LePage, Besieged Maine Governor, Sends Co...</td>\n",
       "      <td>Jess Bidgood</td>\n",
       "      <td>AUGUSTA, Me.  â€”   The beleaguered Republican...</td>\n",
       "      <td>0.0</td>\n",
       "      <td>6662</td>\n",
       "    </tr>\n",
       "    <tr>\n",
       "      <th>4</th>\n",
       "      <td>7596</td>\n",
       "      <td>A Digital 9/11 If Trump Wins</td>\n",
       "      <td>Finian Cunningham</td>\n",
       "      <td>Finian Cunningham has written extensively on...</td>\n",
       "      <td>1.0</td>\n",
       "      <td>9290</td>\n",
       "    </tr>\n",
       "  </tbody>\n",
       "</table>\n",
       "</div>"
      ],
      "text/plain": [
       "      id                                           headline  \\\n",
       "0   9653  Ethics Questions Dogged Agriculture Nominee as...   \n",
       "1  10041  U.S. Must Dig Deep to Stop Argentinaâ€™s Lione...   \n",
       "2  19113  Cotton to House: â€™Do Not Walk the Plank and ...   \n",
       "3   6868  Paul LePage, Besieged Maine Governor, Sends Co...   \n",
       "4   7596                       A Digital 9/11 If Trump Wins   \n",
       "\n",
       "                   written_by  \\\n",
       "0  Eric Lipton and Steve Eder   \n",
       "1             David Waldstein   \n",
       "2                     Pam Key   \n",
       "3                Jess Bidgood   \n",
       "4           Finian Cunningham   \n",
       "\n",
       "                                                news  label  length  \n",
       "0  WASHINGTON  â€”   In Sonny Perdueâ€™s telling,...    0.0    8064  \n",
       "1  HOUSTON  â€”   Venezuela had a plan. It was a ...    0.0    6253  \n",
       "2  Sunday on ABCâ€™s â€œThis Week,â€� while discu...    0.0     441  \n",
       "3  AUGUSTA, Me.  â€”   The beleaguered Republican...    0.0    6662  \n",
       "4    Finian Cunningham has written extensively on...    1.0    9290  "
      ]
     },
     "execution_count": 15,
     "metadata": {},
     "output_type": "execute_result"
    }
   ],
   "source": [
    "#New column for Length of message\n",
    "data['length'] = data.news.str.len()\n",
    "data.head(5)"
   ]
  },
  {
   "cell_type": "code",
   "execution_count": 16,
   "metadata": {},
   "outputs": [
    {
     "name": "stderr",
     "output_type": "stream",
     "text": [
      "<ipython-input-16-e27838cdf6c3>:1: SettingWithCopyWarning: \n",
      "A value is trying to be set on a copy of a slice from a DataFrame.\n",
      "Try using .loc[row_indexer,col_indexer] = value instead\n",
      "\n",
      "See the caveats in the documentation: https://pandas.pydata.org/pandas-docs/stable/user_guide/indexing.html#returning-a-view-versus-a-copy\n",
      "  data['detail_news']= data[\"headline\"].astype(str) +\" \"+ data[\"news\"].astype(str)\n"
     ]
    },
    {
     "data": {
      "text/html": [
       "<div>\n",
       "<style scoped>\n",
       "    .dataframe tbody tr th:only-of-type {\n",
       "        vertical-align: middle;\n",
       "    }\n",
       "\n",
       "    .dataframe tbody tr th {\n",
       "        vertical-align: top;\n",
       "    }\n",
       "\n",
       "    .dataframe thead th {\n",
       "        text-align: right;\n",
       "    }\n",
       "</style>\n",
       "<table border=\"1\" class=\"dataframe\">\n",
       "  <thead>\n",
       "    <tr style=\"text-align: right;\">\n",
       "      <th></th>\n",
       "      <th>id</th>\n",
       "      <th>headline</th>\n",
       "      <th>written_by</th>\n",
       "      <th>news</th>\n",
       "      <th>label</th>\n",
       "      <th>length</th>\n",
       "      <th>detail_news</th>\n",
       "    </tr>\n",
       "  </thead>\n",
       "  <tbody>\n",
       "    <tr>\n",
       "      <th>0</th>\n",
       "      <td>9653</td>\n",
       "      <td>Ethics Questions Dogged Agriculture Nominee as...</td>\n",
       "      <td>Eric Lipton and Steve Eder</td>\n",
       "      <td>WASHINGTON  â€”   In Sonny Perdueâ€™s telling,...</td>\n",
       "      <td>0.0</td>\n",
       "      <td>8064</td>\n",
       "      <td>Ethics Questions Dogged Agriculture Nominee as...</td>\n",
       "    </tr>\n",
       "    <tr>\n",
       "      <th>1</th>\n",
       "      <td>10041</td>\n",
       "      <td>U.S. Must Dig Deep to Stop Argentinaâ€™s Lione...</td>\n",
       "      <td>David Waldstein</td>\n",
       "      <td>HOUSTON  â€”   Venezuela had a plan. It was a ...</td>\n",
       "      <td>0.0</td>\n",
       "      <td>6253</td>\n",
       "      <td>U.S. Must Dig Deep to Stop Argentinaâ€™s Lione...</td>\n",
       "    </tr>\n",
       "    <tr>\n",
       "      <th>2</th>\n",
       "      <td>19113</td>\n",
       "      <td>Cotton to House: â€™Do Not Walk the Plank and ...</td>\n",
       "      <td>Pam Key</td>\n",
       "      <td>Sunday on ABCâ€™s â€œThis Week,â€� while discu...</td>\n",
       "      <td>0.0</td>\n",
       "      <td>441</td>\n",
       "      <td>Cotton to House: â€™Do Not Walk the Plank and ...</td>\n",
       "    </tr>\n",
       "    <tr>\n",
       "      <th>3</th>\n",
       "      <td>6868</td>\n",
       "      <td>Paul LePage, Besieged Maine Governor, Sends Co...</td>\n",
       "      <td>Jess Bidgood</td>\n",
       "      <td>AUGUSTA, Me.  â€”   The beleaguered Republican...</td>\n",
       "      <td>0.0</td>\n",
       "      <td>6662</td>\n",
       "      <td>Paul LePage, Besieged Maine Governor, Sends Co...</td>\n",
       "    </tr>\n",
       "    <tr>\n",
       "      <th>4</th>\n",
       "      <td>7596</td>\n",
       "      <td>A Digital 9/11 If Trump Wins</td>\n",
       "      <td>Finian Cunningham</td>\n",
       "      <td>Finian Cunningham has written extensively on...</td>\n",
       "      <td>1.0</td>\n",
       "      <td>9290</td>\n",
       "      <td>A Digital 9/11 If Trump Wins   Finian Cunningh...</td>\n",
       "    </tr>\n",
       "  </tbody>\n",
       "</table>\n",
       "</div>"
      ],
      "text/plain": [
       "      id                                           headline  \\\n",
       "0   9653  Ethics Questions Dogged Agriculture Nominee as...   \n",
       "1  10041  U.S. Must Dig Deep to Stop Argentinaâ€™s Lione...   \n",
       "2  19113  Cotton to House: â€™Do Not Walk the Plank and ...   \n",
       "3   6868  Paul LePage, Besieged Maine Governor, Sends Co...   \n",
       "4   7596                       A Digital 9/11 If Trump Wins   \n",
       "\n",
       "                   written_by  \\\n",
       "0  Eric Lipton and Steve Eder   \n",
       "1             David Waldstein   \n",
       "2                     Pam Key   \n",
       "3                Jess Bidgood   \n",
       "4           Finian Cunningham   \n",
       "\n",
       "                                                news  label  length  \\\n",
       "0  WASHINGTON  â€”   In Sonny Perdueâ€™s telling,...    0.0    8064   \n",
       "1  HOUSTON  â€”   Venezuela had a plan. It was a ...    0.0    6253   \n",
       "2  Sunday on ABCâ€™s â€œThis Week,â€� while discu...    0.0     441   \n",
       "3  AUGUSTA, Me.  â€”   The beleaguered Republican...    0.0    6662   \n",
       "4    Finian Cunningham has written extensively on...    1.0    9290   \n",
       "\n",
       "                                         detail_news  \n",
       "0  Ethics Questions Dogged Agriculture Nominee as...  \n",
       "1  U.S. Must Dig Deep to Stop Argentinaâ€™s Lione...  \n",
       "2  Cotton to House: â€™Do Not Walk the Plank and ...  \n",
       "3  Paul LePage, Besieged Maine Governor, Sends Co...  \n",
       "4  A Digital 9/11 If Trump Wins   Finian Cunningh...  "
      ]
     },
     "execution_count": 16,
     "metadata": {},
     "output_type": "execute_result"
    }
   ],
   "source": [
    "data['detail_news']= data[\"headline\"].astype(str) +\" \"+ data[\"news\"].astype(str)\n",
    "data.head(5)"
   ]
  },
  {
   "cell_type": "code",
   "execution_count": 17,
   "metadata": {},
   "outputs": [
    {
     "name": "stderr",
     "output_type": "stream",
     "text": [
      "C:\\Users\\Admin\\anaconda3\\lib\\site-packages\\pandas\\core\\frame.py:3990: SettingWithCopyWarning: \n",
      "A value is trying to be set on a copy of a slice from a DataFrame\n",
      "\n",
      "See the caveats in the documentation: https://pandas.pydata.org/pandas-docs/stable/user_guide/indexing.html#returning-a-view-versus-a-copy\n",
      "  return super().drop(\n"
     ]
    },
    {
     "data": {
      "text/html": [
       "<div>\n",
       "<style scoped>\n",
       "    .dataframe tbody tr th:only-of-type {\n",
       "        vertical-align: middle;\n",
       "    }\n",
       "\n",
       "    .dataframe tbody tr th {\n",
       "        vertical-align: top;\n",
       "    }\n",
       "\n",
       "    .dataframe thead th {\n",
       "        text-align: right;\n",
       "    }\n",
       "</style>\n",
       "<table border=\"1\" class=\"dataframe\">\n",
       "  <thead>\n",
       "    <tr style=\"text-align: right;\">\n",
       "      <th></th>\n",
       "      <th>id</th>\n",
       "      <th>written_by</th>\n",
       "      <th>label</th>\n",
       "      <th>length</th>\n",
       "      <th>detail_news</th>\n",
       "    </tr>\n",
       "  </thead>\n",
       "  <tbody>\n",
       "    <tr>\n",
       "      <th>0</th>\n",
       "      <td>9653</td>\n",
       "      <td>Eric Lipton and Steve Eder</td>\n",
       "      <td>0.0</td>\n",
       "      <td>8064</td>\n",
       "      <td>Ethics Questions Dogged Agriculture Nominee as...</td>\n",
       "    </tr>\n",
       "    <tr>\n",
       "      <th>1</th>\n",
       "      <td>10041</td>\n",
       "      <td>David Waldstein</td>\n",
       "      <td>0.0</td>\n",
       "      <td>6253</td>\n",
       "      <td>U.S. Must Dig Deep to Stop Argentinaâ€™s Lione...</td>\n",
       "    </tr>\n",
       "    <tr>\n",
       "      <th>2</th>\n",
       "      <td>19113</td>\n",
       "      <td>Pam Key</td>\n",
       "      <td>0.0</td>\n",
       "      <td>441</td>\n",
       "      <td>Cotton to House: â€™Do Not Walk the Plank and ...</td>\n",
       "    </tr>\n",
       "    <tr>\n",
       "      <th>3</th>\n",
       "      <td>6868</td>\n",
       "      <td>Jess Bidgood</td>\n",
       "      <td>0.0</td>\n",
       "      <td>6662</td>\n",
       "      <td>Paul LePage, Besieged Maine Governor, Sends Co...</td>\n",
       "    </tr>\n",
       "    <tr>\n",
       "      <th>4</th>\n",
       "      <td>7596</td>\n",
       "      <td>Finian Cunningham</td>\n",
       "      <td>1.0</td>\n",
       "      <td>9290</td>\n",
       "      <td>A Digital 9/11 If Trump Wins   Finian Cunningh...</td>\n",
       "    </tr>\n",
       "  </tbody>\n",
       "</table>\n",
       "</div>"
      ],
      "text/plain": [
       "      id                  written_by  label  length  \\\n",
       "0   9653  Eric Lipton and Steve Eder    0.0    8064   \n",
       "1  10041             David Waldstein    0.0    6253   \n",
       "2  19113                     Pam Key    0.0     441   \n",
       "3   6868                Jess Bidgood    0.0    6662   \n",
       "4   7596           Finian Cunningham    1.0    9290   \n",
       "\n",
       "                                         detail_news  \n",
       "0  Ethics Questions Dogged Agriculture Nominee as...  \n",
       "1  U.S. Must Dig Deep to Stop Argentinaâ€™s Lione...  \n",
       "2  Cotton to House: â€™Do Not Walk the Plank and ...  \n",
       "3  Paul LePage, Besieged Maine Governor, Sends Co...  \n",
       "4  A Digital 9/11 If Trump Wins   Finian Cunningh...  "
      ]
     },
     "execution_count": 17,
     "metadata": {},
     "output_type": "execute_result"
    }
   ],
   "source": [
    "data.drop('headline',axis=1,inplace=True)\n",
    "data.drop('news',axis=1,inplace=True)\n",
    "data.head()"
   ]
  },
  {
   "cell_type": "code",
   "execution_count": 18,
   "metadata": {},
   "outputs": [
    {
     "name": "stderr",
     "output_type": "stream",
     "text": [
      "<ipython-input-18-68711f072451>:2: SettingWithCopyWarning: \n",
      "A value is trying to be set on a copy of a slice from a DataFrame.\n",
      "Try using .loc[row_indexer,col_indexer] = value instead\n",
      "\n",
      "See the caveats in the documentation: https://pandas.pydata.org/pandas-docs/stable/user_guide/indexing.html#returning-a-view-versus-a-copy\n",
      "  data['clean_length'] = data.detail_news.str.len()\n"
     ]
    },
    {
     "data": {
      "text/html": [
       "<div>\n",
       "<style scoped>\n",
       "    .dataframe tbody tr th:only-of-type {\n",
       "        vertical-align: middle;\n",
       "    }\n",
       "\n",
       "    .dataframe tbody tr th {\n",
       "        vertical-align: top;\n",
       "    }\n",
       "\n",
       "    .dataframe thead th {\n",
       "        text-align: right;\n",
       "    }\n",
       "</style>\n",
       "<table border=\"1\" class=\"dataframe\">\n",
       "  <thead>\n",
       "    <tr style=\"text-align: right;\">\n",
       "      <th></th>\n",
       "      <th>id</th>\n",
       "      <th>written_by</th>\n",
       "      <th>label</th>\n",
       "      <th>length</th>\n",
       "      <th>detail_news</th>\n",
       "      <th>clean_length</th>\n",
       "    </tr>\n",
       "  </thead>\n",
       "  <tbody>\n",
       "    <tr>\n",
       "      <th>0</th>\n",
       "      <td>9653</td>\n",
       "      <td>Eric Lipton and Steve Eder</td>\n",
       "      <td>0.0</td>\n",
       "      <td>8064</td>\n",
       "      <td>Ethics Questions Dogged Agriculture Nominee as...</td>\n",
       "      <td>8149</td>\n",
       "    </tr>\n",
       "    <tr>\n",
       "      <th>1</th>\n",
       "      <td>10041</td>\n",
       "      <td>David Waldstein</td>\n",
       "      <td>0.0</td>\n",
       "      <td>6253</td>\n",
       "      <td>U.S. Must Dig Deep to Stop Argentinaâ€™s Lione...</td>\n",
       "      <td>6328</td>\n",
       "    </tr>\n",
       "    <tr>\n",
       "      <th>2</th>\n",
       "      <td>19113</td>\n",
       "      <td>Pam Key</td>\n",
       "      <td>0.0</td>\n",
       "      <td>441</td>\n",
       "      <td>Cotton to House: â€™Do Not Walk the Plank and ...</td>\n",
       "      <td>546</td>\n",
       "    </tr>\n",
       "    <tr>\n",
       "      <th>3</th>\n",
       "      <td>6868</td>\n",
       "      <td>Jess Bidgood</td>\n",
       "      <td>0.0</td>\n",
       "      <td>6662</td>\n",
       "      <td>Paul LePage, Besieged Maine Governor, Sends Co...</td>\n",
       "      <td>6763</td>\n",
       "    </tr>\n",
       "    <tr>\n",
       "      <th>4</th>\n",
       "      <td>7596</td>\n",
       "      <td>Finian Cunningham</td>\n",
       "      <td>1.0</td>\n",
       "      <td>9290</td>\n",
       "      <td>A Digital 9/11 If Trump Wins   Finian Cunningh...</td>\n",
       "      <td>9319</td>\n",
       "    </tr>\n",
       "  </tbody>\n",
       "</table>\n",
       "</div>"
      ],
      "text/plain": [
       "      id                  written_by  label  length  \\\n",
       "0   9653  Eric Lipton and Steve Eder    0.0    8064   \n",
       "1  10041             David Waldstein    0.0    6253   \n",
       "2  19113                     Pam Key    0.0     441   \n",
       "3   6868                Jess Bidgood    0.0    6662   \n",
       "4   7596           Finian Cunningham    1.0    9290   \n",
       "\n",
       "                                         detail_news  clean_length  \n",
       "0  Ethics Questions Dogged Agriculture Nominee as...          8149  \n",
       "1  U.S. Must Dig Deep to Stop Argentinaâ€™s Lione...          6328  \n",
       "2  Cotton to House: â€™Do Not Walk the Plank and ...           546  \n",
       "3  Paul LePage, Besieged Maine Governor, Sends Co...          6763  \n",
       "4  A Digital 9/11 If Trump Wins   Finian Cunningh...          9319  "
      ]
     },
     "execution_count": 18,
     "metadata": {},
     "output_type": "execute_result"
    }
   ],
   "source": [
    "# New column (clean_length) after puncuations,stopwords removal\n",
    "data['clean_length'] = data.detail_news.str.len()\n",
    "data.head()"
   ]
  },
  {
   "cell_type": "code",
   "execution_count": 19,
   "metadata": {},
   "outputs": [],
   "source": [
    "from bs4 import BeautifulSoup\n",
    "def cleanText(text):\n",
    "    text = BeautifulSoup(text, \"lxml\").text\n",
    "    text = re.sub(r'\\|\\|\\|', r' ', text) \n",
    "    text = re.sub(r'http\\S+', r'<URL>', text)\n",
    "    text = text.lower()\n",
    "    text = text.replace('x', '')\n",
    "    return text"
   ]
  },
  {
   "cell_type": "code",
   "execution_count": 20,
   "metadata": {},
   "outputs": [],
   "source": [
    "def clean_text(text, remove_stopwords = True):\n",
    "    \n",
    "    # Convert words to lower case\n",
    "    text = text.lower()\n",
    "    \n",
    "    # Replace contractions with their longer forms \n",
    "    if True:\n",
    "        text = text.split()\n",
    "        new_text = []\n",
    "        for word in text:\n",
    "            if word in contractions:\n",
    "                new_text.append(contractions[word])\n",
    "            else:\n",
    "                new_text.append(word)\n",
    "        text = \" \".join(new_text)\n",
    "    \n",
    "    # Format words and remove unwanted characters\n",
    "    text = re.sub(r'https?:\\/\\/.*[\\r\\n]*', '', text,  \n",
    "                  flags=re.MULTILINE)\n",
    "    text = re.sub(r'\\<a href', ' ', text)\n",
    "    text = re.sub(r'&amp;', '', text) \n",
    "    text = re.sub(r'[_\"\\-;%()|+&=*%.,!?:#$@\\[\\]/]', ' ', text)\n",
    "    text = re.sub(r'<br />', ' ', text)\n",
    "    text = re.sub(r'\\'', ' ', text)\n",
    "    \n",
    "    # Optionally, remove stop words\n",
    "    if remove_stopwords:\n",
    "        text = text.split()\n",
    "        stops = set(stopwords.words(\"english\"))\n",
    "        text = [w for w in text if not w in stops]\n",
    "        text = \" \".join(text)\n",
    "    return text"
   ]
  },
  {
   "cell_type": "code",
   "execution_count": 21,
   "metadata": {},
   "outputs": [],
   "source": [
    "import pandas as pd\n",
    "pd.options.mode.chained_assignment = None  # default='warn'"
   ]
  },
  {
   "cell_type": "code",
   "execution_count": 22,
   "metadata": {},
   "outputs": [],
   "source": [
    "train, test = train_test_split(data, test_size=0.3, random_state=42)\n",
    "import nltk\n",
    "from nltk.corpus import stopwords\n",
    "def tokenize_text(text):\n",
    "    tokens = []\n",
    "    for sent in nltk.sent_tokenize(text):\n",
    "        for word in nltk.word_tokenize(sent):\n",
    "            if len(word) < 2:\n",
    "                continue\n",
    "            tokens.append(word.lower())\n",
    "    return tokens\n",
    "train_tagged = train.apply(\n",
    "    lambda r: TaggedDocument(words=tokenize_text(r['detail_news']), tags=[r.label]), axis=1)\n",
    "test_tagged = test.apply(\n",
    "    lambda r: TaggedDocument(words=tokenize_text(r['detail_news']), tags=[r.label]), axis=1)"
   ]
  },
  {
   "cell_type": "code",
   "execution_count": 24,
   "metadata": {},
   "outputs": [],
   "source": [
    "data['detail_news']=data['detail_news'].apply(str)"
   ]
  },
  {
   "cell_type": "code",
   "execution_count": 25,
   "metadata": {},
   "outputs": [
    {
     "data": {
      "text/plain": [
       "TaggedDocument(words=['deal', 'with', 'devil', 'red', 'cross', 'seeks', 'talks', 'with', 'isis', 'to', 'help', 'civilians', 'in', 'mosul', 'fighting', '17', 'mins', 'ago', 'views', 'comments', 'likes', 'drone', 'footage', 'shows', 'the', 'devastation', 'caused', 'by', 'twin', 'earthquakes', 'that', 'rocked', 'borgo', \"sant'antonio\", 'near', 'visso', 'which', 'left', 'buildings', 'reduced', 'to', 'rubble', 'or', 'partially', 'collapsed', 'central', 'italy', 'was', 'struck', 'twice', 'in', 'quick', 'succession', 'the', 'previous', 'day', 'with', 'the', 'first', 'tremor', 'hitting', 'it', 'at', 'around', '19:11', 'local', 'time', '17:11', 'gmt', 'the', 'quake', 'measured', '5.5', 'on', 'the', 'richter', 'scale', 'and', 'could', 'be', 'felt', 'as', 'far', 'as', 'rome', 'some', '240', 'km', '149', 'miles', 'shortly', 'after', 'second', 'quake', 'of', '6.1-magnitude', 'struck', 'at', 'around', '21:18', 'local', 'time', '19:18', 'gmt', 'buildings', 'were', 'shaking', 'some', 'parts', 'even', 'caving', 'in', 'and', 'residents', 'fled', 'into', 'the', 'street', 'to', 'save', 'themselves', 'several', 'dozen', 'people', 'have', 'been', 'treated', 'across', 'the', 'region', 'for', 'light', 'injuries', 'while', 'four', 'are', 'said', 'to', 'have', 'been', 'seriously', 'hurt', 'courtesy', 'rt', \"'s\", 'ruptly', 'video', 'agency', 'no', 're-upload', 'no', 'reuse', 'for', 'licensing', 'please', 'contact', 'http', '//ruptly.tv', 'subscribe', 'like', 'leave', 'reply', 'login', 'with', 'your', 'social', 'id', 'your', 'email', 'address', 'will', 'not', 'be', 'published', 'name'], tags=[1.0])"
      ]
     },
     "execution_count": 25,
     "metadata": {},
     "output_type": "execute_result"
    }
   ],
   "source": [
    "train_tagged.values[5]"
   ]
  },
  {
   "cell_type": "code",
   "execution_count": 26,
   "metadata": {},
   "outputs": [],
   "source": [
    "import multiprocessing\n",
    "cores = multiprocessing.cpu_count()"
   ]
  },
  {
   "cell_type": "code",
   "execution_count": 27,
   "metadata": {},
   "outputs": [
    {
     "name": "stderr",
     "output_type": "stream",
     "text": [
      "100%|██████████| 14513/14513 [00:00<00:00, 464916.13it/s]\n"
     ]
    }
   ],
   "source": [
    "model_dbow = Doc2Vec(dm=0, vector_size=300, negative=5, hs=0, min_count=2, sample = 0, workers=cores)\n",
    "model_dbow.build_vocab([x for x in tqdm(train_tagged.values)])"
   ]
  },
  {
   "cell_type": "code",
   "execution_count": 28,
   "metadata": {},
   "outputs": [
    {
     "name": "stderr",
     "output_type": "stream",
     "text": [
      "100%|██████████| 14513/14513 [00:00<00:00, 604836.29it/s]\n",
      "100%|██████████| 14513/14513 [00:00<00:00, 907182.32it/s]\n",
      "100%|██████████| 14513/14513 [00:00<00:00, 907141.77it/s]\n",
      "100%|██████████| 14513/14513 [00:00<00:00, 1037283.31it/s]\n",
      "100%|██████████| 14513/14513 [00:00<00:00, 854175.09it/s]\n",
      "100%|██████████| 14513/14513 [00:00<00:00, 744519.74it/s]\n",
      "100%|██████████| 14513/14513 [00:00<00:00, 907723.44it/s]\n",
      "100%|██████████| 14513/14513 [00:00<00:00, 66688.80it/s]\n",
      "100%|██████████| 14513/14513 [00:00<00:00, 631373.00it/s]\n",
      "100%|██████████| 14513/14513 [00:00<00:00, 537885.23it/s]\n",
      "100%|██████████| 14513/14513 [00:00<00:00, 726144.10it/s]\n",
      "100%|██████████| 14513/14513 [00:00<?, ?it/s]\n",
      "100%|██████████| 14513/14513 [00:00<00:00, 660130.29it/s]\n",
      "100%|██████████| 14513/14513 [00:00<00:00, 660201.88it/s]\n",
      "100%|██████████| 14513/14513 [00:00<00:00, 907601.63it/s]\n",
      "100%|██████████| 14513/14513 [00:00<00:00, 1037230.29it/s]\n",
      "100%|██████████| 14513/14513 [00:00<00:00, 551446.14it/s]\n",
      "100%|██████████| 14513/14513 [00:00<00:00, 574632.16it/s]\n",
      "100%|██████████| 14513/14513 [00:00<00:00, 928902.87it/s]\n",
      "100%|██████████| 14513/14513 [00:00<00:00, 696069.04it/s]\n",
      "100%|██████████| 14513/14513 [00:00<00:00, 714996.41it/s]\n",
      "100%|██████████| 14513/14513 [00:00<00:00, 683010.38it/s]\n",
      "100%|██████████| 14513/14513 [00:00<00:00, 530127.88it/s]\n",
      "100%|██████████| 14513/14513 [00:00<00:00, 1210225.73it/s]\n",
      "100%|██████████| 14513/14513 [00:00<00:00, 634909.35it/s]\n",
      "100%|██████████| 14513/14513 [00:00<00:00, 893034.84it/s]\n",
      "100%|██████████| 14513/14513 [00:00<00:00, 790452.21it/s]\n",
      "100%|██████████| 14513/14513 [00:00<00:00, 675994.29it/s]\n",
      "100%|██████████| 14513/14513 [00:00<00:00, 618868.79it/s]\n",
      "100%|██████████| 14513/14513 [00:00<00:00, 468566.43it/s]\n",
      "100%|██████████| 14513/14513 [00:00<00:00, 845795.94it/s]\n",
      "100%|██████████| 14513/14513 [00:00<00:00, 392496.79it/s]\n",
      "100%|██████████| 14513/14513 [00:00<00:00, 626647.73it/s]\n",
      "100%|██████████| 14513/14513 [00:00<00:00, 551471.12it/s]\n",
      "100%|██████████| 14513/14513 [00:00<00:00, 722352.63it/s]\n",
      "100%|██████████| 14513/14513 [00:00<00:00, 946656.93it/s]\n",
      "100%|██████████| 14513/14513 [00:00<00:00, 888913.89it/s]\n",
      "100%|██████████| 14513/14513 [00:00<00:00, 936736.28it/s]\n",
      "100%|██████████| 14513/14513 [00:00<00:00, 787211.73it/s]\n",
      "100%|██████████| 14513/14513 [00:00<00:00, 554480.10it/s]\n",
      "100%|██████████| 14513/14513 [00:00<00:00, 968080.50it/s]\n",
      "100%|██████████| 14513/14513 [00:00<00:00, 563394.27it/s]\n",
      "100%|██████████| 14513/14513 [00:00<00:00, 609328.67it/s]\n",
      "100%|██████████| 14513/14513 [00:00<00:00, 1067722.61it/s]\n",
      "100%|██████████| 14513/14513 [00:00<00:00, 793543.57it/s]\n"
     ]
    }
   ],
   "source": [
    "#time\n",
    "for epoch in range(45):\n",
    "    model_dbow.train(utils.shuffle([x for x in tqdm(train_tagged.values)]), total_examples=len(train_tagged.values), epochs=1)\n",
    "    model_dbow.alpha -= 0.002\n",
    "    model_dbow.min_alpha = model_dbow.alpha"
   ]
  },
  {
   "cell_type": "code",
   "execution_count": 29,
   "metadata": {},
   "outputs": [],
   "source": [
    "def vec_for_learning(model, tagged_docs):\n",
    "    sents = tagged_docs.values\n",
    "    targets, regressors = zip(*[(doc.tags[0], model.infer_vector(doc.words, steps=20)) for doc in sents])\n",
    "    return targets, regressors\n",
    "def vec_for_learning(model, tagged_docs):\n",
    "    sents = tagged_docs.values\n",
    "    targets, regressors = zip(*[(doc.tags[0], model.infer_vector(doc.words, steps=20)) for doc in sents])\n",
    "    return targets, regressors"
   ]
  },
  {
   "cell_type": "code",
   "execution_count": 30,
   "metadata": {},
   "outputs": [
    {
     "name": "stderr",
     "output_type": "stream",
     "text": [
      "C:\\Users\\Admin\\anaconda3\\lib\\site-packages\\sklearn\\linear_model\\_logistic.py:762: ConvergenceWarning: lbfgs failed to converge (status=1):\n",
      "STOP: TOTAL NO. of ITERATIONS REACHED LIMIT.\n",
      "\n",
      "Increase the number of iterations (max_iter) or scale the data as shown in:\n",
      "    https://scikit-learn.org/stable/modules/preprocessing.html\n",
      "Please also refer to the documentation for alternative solver options:\n",
      "    https://scikit-learn.org/stable/modules/linear_model.html#logistic-regression\n",
      "  n_iter_i = _check_optimize_result(\n"
     ]
    },
    {
     "name": "stdout",
     "output_type": "stream",
     "text": [
      "Testing accuracy 0.6334405144694534\n",
      "Testing F1 score: 0.6334311118685694\n"
     ]
    }
   ],
   "source": [
    "y_train_dbow, X_train_dbow = vec_for_learning(model_dbow, train_tagged)\n",
    "y_test_dbow, X_test_dbow = vec_for_learning(model_dbow, test_tagged)\n",
    "logreg = LogisticRegression(n_jobs=1, C=1e5)\n",
    "logreg.fit(X_train_dbow, y_train_dbow)\n",
    "y_pred_dbow = logreg.predict(X_test_dbow)\n",
    "from sklearn.metrics import accuracy_score, f1_score\n",
    "print('Testing accuracy %s' % accuracy_score(y_test_dbow, y_pred_dbow))\n",
    "print('Testing F1 score: {}'.format(f1_score(y_test_dbow, y_pred_dbow, average='weighted')))"
   ]
  },
  {
   "cell_type": "code",
   "execution_count": 31,
   "metadata": {},
   "outputs": [
    {
     "name": "stderr",
     "output_type": "stream",
     "text": [
      "100%|██████████| 14513/14513 [00:00<00:00, 195421.79it/s]\n"
     ]
    }
   ],
   "source": [
    "model_dmm = Doc2Vec(dm=1, dm_mean=1, vector_size=300, window=10, negative=5, min_count=1, workers=5, alpha=0.065, min_alpha=0.065)\n",
    "model_dmm.build_vocab([x for x in tqdm(train_tagged.values)])"
   ]
  },
  {
   "cell_type": "code",
   "execution_count": 32,
   "metadata": {},
   "outputs": [
    {
     "name": "stderr",
     "output_type": "stream",
     "text": [
      "100%|██████████| 14513/14513 [00:00<00:00, 691592.92it/s]\n",
      "100%|██████████| 14513/14513 [00:00<00:00, 928789.48it/s]\n",
      "100%|██████████| 14513/14513 [00:00<00:00, 911870.78it/s]\n",
      "100%|██████████| 14513/14513 [00:00<00:00, 591334.12it/s]\n",
      "100%|██████████| 14513/14513 [00:00<00:00, 427336.40it/s]\n",
      "100%|██████████| 14513/14513 [00:00<00:00, 881448.24it/s]\n",
      "100%|██████████| 14513/14513 [00:00<00:00, 594034.80it/s]\n",
      "100%|██████████| 14513/14513 [00:00<00:00, 766137.64it/s]\n",
      "100%|██████████| 14513/14513 [00:00<00:00, 546367.84it/s]\n",
      "100%|██████████| 14513/14513 [00:00<00:00, 509900.60it/s]\n",
      "100%|██████████| 14513/14513 [00:00<00:00, 697145.24it/s]\n",
      "100%|██████████| 14513/14513 [00:00<00:00, 402121.42it/s]\n",
      "100%|██████████| 14513/14513 [00:00<00:00, 761127.51it/s]\n",
      "100%|██████████| 14513/14513 [00:00<00:00, 575017.56it/s]\n",
      "100%|██████████| 14513/14513 [00:00<00:00, 546730.98it/s]\n",
      "100%|██████████| 14513/14513 [00:00<00:00, 1037300.99it/s]\n",
      "100%|██████████| 14513/14513 [00:00<00:00, 569759.21it/s]\n",
      "100%|██████████| 14513/14513 [00:00<00:00, 1037230.29it/s]\n",
      "100%|██████████| 14513/14513 [00:00<00:00, 608159.83it/s]\n",
      "100%|██████████| 14513/14513 [00:00<00:00, 491640.15it/s]\n",
      "100%|██████████| 14513/14513 [00:00<00:00, 566477.14it/s]\n",
      "100%|██████████| 14513/14513 [00:00<00:00, 448362.49it/s]\n",
      "100%|██████████| 14513/14513 [00:00<00:00, 638525.72it/s]\n",
      "100%|██████████| 14513/14513 [00:00<00:00, 570100.72it/s]\n",
      "100%|██████████| 14513/14513 [00:00<00:00, 590445.06it/s]\n",
      "100%|██████████| 14513/14513 [00:00<00:00, 799820.44it/s]\n",
      "100%|██████████| 14513/14513 [00:00<00:00, 536647.57it/s]\n",
      "100%|██████████| 14513/14513 [00:00<00:00, 414918.98it/s]\n",
      "100%|██████████| 14513/14513 [00:00<00:00, 605293.38it/s]\n",
      "100%|██████████| 14513/14513 [00:00<00:00, 993876.17it/s]\n",
      "100%|██████████| 14513/14513 [00:00<00:00, 508550.21it/s]\n",
      "100%|██████████| 14513/14513 [00:00<00:00, 449664.14it/s]\n",
      "100%|██████████| 14513/14513 [00:00<00:00, 767983.83it/s]\n",
      "100%|██████████| 14513/14513 [00:00<00:00, 880695.82it/s]\n",
      "100%|██████████| 14513/14513 [00:00<00:00, 449454.97it/s]\n",
      "100%|██████████| 14513/14513 [00:00<00:00, 865715.70it/s]\n",
      "100%|██████████| 14513/14513 [00:00<00:00, 671942.40it/s]\n",
      "100%|██████████| 14513/14513 [00:00<00:00, 406957.80it/s]\n",
      "100%|██████████| 14513/14513 [00:00<00:00, 447160.32it/s]\n",
      "100%|██████████| 14513/14513 [00:00<00:00, 660080.18it/s]\n",
      "100%|██████████| 14513/14513 [00:00<00:00, 489859.77it/s]\n",
      "100%|██████████| 14513/14513 [00:00<00:00, 1019937.90it/s]\n",
      "100%|██████████| 14513/14513 [00:00<00:00, 473299.02it/s]\n",
      "100%|██████████| 14513/14513 [00:00<00:00, 552657.74it/s]\n",
      "100%|██████████| 14513/14513 [00:00<00:00, 968095.90it/s]\n"
     ]
    }
   ],
   "source": [
    "#time\n",
    "for epoch in range(45):\n",
    "    model_dbow.train(utils.shuffle([x for x in tqdm(train_tagged.values)]), total_examples=len(train_tagged.values), epochs=1)\n",
    "    model_dbow.alpha -= 0.002\n",
    "    model_dbow.min_alpha = model_dbow.alpha"
   ]
  },
  {
   "cell_type": "code",
   "execution_count": 33,
   "metadata": {},
   "outputs": [
    {
     "name": "stdout",
     "output_type": "stream",
     "text": [
      "Testing accuracy 0.5064308681672026\n",
      "Testing F1 score: 0.506186686302301\n"
     ]
    }
   ],
   "source": [
    "y_train_dm, X_train_dm = vec_for_learning(model_dmm, train_tagged)\n",
    "y_test_dm, X_test_dm = vec_for_learning(model_dmm, test_tagged)\n",
    "logreg.fit(X_train_dm, y_train_dm)\n",
    "y_pred_dm = logreg.predict(X_test_dm)\n",
    "print('Testing accuracy %s' % accuracy_score(y_test_dm, y_pred_dm))\n",
    "print('Testing F1 score: {}'.format(f1_score(y_test_dm, y_pred_dm, average='weighted')))"
   ]
  },
  {
   "cell_type": "code",
   "execution_count": 34,
   "metadata": {},
   "outputs": [],
   "source": [
    "model_dbow.delete_temporary_training_data(keep_doctags_vectors=True, keep_inference=True)\n",
    "model_dmm.delete_temporary_training_data(keep_doctags_vectors=True, keep_inference=True)"
   ]
  },
  {
   "cell_type": "code",
   "execution_count": 35,
   "metadata": {},
   "outputs": [],
   "source": [
    "def get_vectors(model, tagged_docs):\n",
    "    sents = tagged_docs.values\n",
    "    targets, regressors = zip(*[(doc.tags[0], model.infer_vector(doc.words, steps=20)) for doc in sents])\n",
    "    return targets, regressors"
   ]
  },
  {
   "cell_type": "code",
   "execution_count": 36,
   "metadata": {},
   "outputs": [],
   "source": [
    "from gensim.test.test_doc2vec import ConcatenatedDoc2Vec\n",
    "new_model = ConcatenatedDoc2Vec([model_dbow, model_dmm])"
   ]
  },
  {
   "cell_type": "code",
   "execution_count": 41,
   "metadata": {},
   "outputs": [
    {
     "name": "stderr",
     "output_type": "stream",
     "text": [
      "C:\\Users\\Admin\\anaconda3\\lib\\site-packages\\sklearn\\linear_model\\_logistic.py:762: ConvergenceWarning: lbfgs failed to converge (status=1):\n",
      "STOP: TOTAL NO. of ITERATIONS REACHED LIMIT.\n",
      "\n",
      "Increase the number of iterations (max_iter) or scale the data as shown in:\n",
      "    https://scikit-learn.org/stable/modules/preprocessing.html\n",
      "Please also refer to the documentation for alternative solver options:\n",
      "    https://scikit-learn.org/stable/modules/linear_model.html#logistic-regression\n",
      "  n_iter_i = _check_optimize_result(\n"
     ]
    },
    {
     "name": "stdout",
     "output_type": "stream",
     "text": [
      "Testing accuracy 0.5940514469453376\n",
      "Testing F1 score: 0.5940308194990136\n"
     ]
    }
   ],
   "source": [
    "y_train, X_train = get_vectors(new_model, train_tagged)\n",
    "y_test, X_test = get_vectors(new_model, test_tagged)\n",
    "logreg.fit(X_train, y_train)\n",
    "y_pred = logreg.predict(X_test)\n",
    "print('Testing accuracy %s' % accuracy_score(y_test, y_pred))\n",
    "print('Testing F1 score: {}'.format(f1_score(y_test, y_pred, average='weighted')))"
   ]
  },
  {
   "cell_type": "code",
   "execution_count": 42,
   "metadata": {},
   "outputs": [
    {
     "name": "stderr",
     "output_type": "stream",
     "text": [
      "C:\\Users\\Admin\\anaconda3\\lib\\site-packages\\sklearn\\utils\\deprecation.py:86: FutureWarning: Function plot_confusion_matrix is deprecated; This will be removed in v0.4.0. Please use scikitplot.metrics.plot_confusion_matrix instead.\n",
      "  warnings.warn(msg, category=FutureWarning)\n"
     ]
    },
    {
     "data": {
      "image/png": "[encoded data removed]",
      "text/plain": [
       "<Figure size 432x288 with 2 Axes>"
      ]
     },
     "metadata": {
      "needs_background": "light"
     },
     "output_type": "display_data"
    },
    {
     "name": "stdout",
     "output_type": "stream",
     "text": [
      "confusion matrix of logistic regression of Doc2vec using distributed memory\n"
     ]
    },
    {
     "data": {
      "image/png": "[encoded data removed]",
      "text/plain": [
       "<Figure size 432x288 with 2 Axes>"
      ]
     },
     "metadata": {
      "needs_background": "light"
     },
     "output_type": "display_data"
    },
    {
     "name": "stdout",
     "output_type": "stream",
     "text": [
      "confusion matrix of logistic regression of Doc2vec using distributed bag of words\n"
     ]
    },
    {
     "data": {
      "image/png": "[encoded data removed]",
      "text/plain": [
       "<Figure size 432x288 with 2 Axes>"
      ]
     },
     "metadata": {
      "needs_background": "light"
     },
     "output_type": "display_data"
    },
    {
     "name": "stdout",
     "output_type": "stream",
     "text": [
      "confusion matrix of logistic regression of Doc2vec combining both models\n"
     ]
    }
   ],
   "source": [
    "import scikitplot.plotters as skplt\n",
    "def plot_cmat(y_test, y_pred):\n",
    "    skplt.plot_confusion_matrix(y_test,y_pred)\n",
    "    plt.show()\n",
    "    \n",
    "plot_cmat(y_test_dm, y_pred_dm)\n",
    "print(\"confusion matrix of logistic regression of Doc2vec using distributed memory\")\n",
    "plot_cmat(y_test_dbow, y_pred_dbow)\n",
    "print(\"confusion matrix of logistic regression of Doc2vec using distributed bag of words\")\n",
    "plot_cmat(y_test, y_pred)\n",
    "print(\"confusion matrix of logistic regression of Doc2vec combining both models\")"
   ]
  },
  {
   "cell_type": "code",
   "execution_count": 43,
   "metadata": {},
   "outputs": [
    {
     "name": "stdout",
     "output_type": "stream",
     "text": [
      "Testing accuracy 0.4906752411575563\n",
      "Testing F1 score: 0.3230243390881928\n"
     ]
    }
   ],
   "source": [
    "C = 1.0  \n",
    "from sklearn import svm\n",
    "svc = svm.SVC(kernel='linear', C=C).fit(X_train_dm, y_train_dm)\n",
    "y_pred= svc.predict(X_test_dm)\n",
    "print('Testing accuracy %s' % accuracy_score(y_test_dm, y_pred))\n",
    "print('Testing F1 score: {}'.format(f1_score(y_test_dm, y_pred, average='weighted')))"
   ]
  },
  {
   "cell_type": "code",
   "execution_count": 44,
   "metadata": {},
   "outputs": [
    {
     "name": "stderr",
     "output_type": "stream",
     "text": [
      "C:\\Users\\Admin\\anaconda3\\lib\\site-packages\\sklearn\\utils\\deprecation.py:86: FutureWarning: Function plot_confusion_matrix is deprecated; This will be removed in v0.4.0. Please use scikitplot.metrics.plot_confusion_matrix instead.\n",
      "  warnings.warn(msg, category=FutureWarning)\n"
     ]
    },
    {
     "data": {
      "image/png": "[encoded data removed]",
      "text/plain": [
       "<Figure size 432x288 with 2 Axes>"
      ]
     },
     "metadata": {
      "needs_background": "light"
     },
     "output_type": "display_data"
    },
    {
     "name": "stdout",
     "output_type": "stream",
     "text": [
      "confusion matrix of SVM of Doc2vec using distributed memory\n"
     ]
    }
   ],
   "source": [
    "\n",
    "plot_cmat(y_test_dm, y_pred)\n",
    "print(\"confusion matrix of SVM of Doc2vec using distributed memory\")"
   ]
  },
  {
   "cell_type": "code",
   "execution_count": null,
   "metadata": {},
   "outputs": [],
   "source": []
  }
 ],
 "metadata": {
  "kernelspec": {
   "display_name": "Python 3",
   "language": "python",
   "name": "python3"
  },
  "language_info": {
   "codemirror_mode": {
    "name": "ipython",
    "version": 3
   },
   "file_extension": ".py",
   "mimetype": "text/x-python",
   "name": "python",
   "nbconvert_exporter": "python",
   "pygments_lexer": "ipython3",
   "version": "3.8.3"
  }
 },
 "nbformat": 4,
 "nbformat_minor": 4
}
